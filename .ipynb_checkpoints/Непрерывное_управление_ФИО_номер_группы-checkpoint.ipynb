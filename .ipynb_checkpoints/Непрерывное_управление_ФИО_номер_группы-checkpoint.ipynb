{
 "cells": [
  {
   "cell_type": "markdown",
   "metadata": {
    "ExecuteTime": {
     "end_time": "2024-05-04T22:46:50.460493Z",
     "start_time": "2024-05-04T22:46:50.452158Z"
    }
   },
   "source": [
    "# Управление с непрерывными действиями (Continuous Control) (<span style=\"color: green\">10 баллов за основную часть + 5 баллов за бонусную часть</span>)\n",
    "\n",
    "#### Дедлайн (жёсткий) задания: 04.05.2025,  UTC+3.\n",
    "\n",
    "#### При сдаче задания нужно  поместить в архив данный файл и папки с логами и видео, сохраняя относительные пути, и послать архив в систему сдачи.\n",
    "\n",
    "### <span style=\"color: red\"> Если работа была списана и/или сделана LLM, то за работу ставится 0 баллов. </span> "
   ]
  },
  {
   "cell_type": "markdown",
   "metadata": {},
   "source": [
    "# Работа выполнена: Лотфуллин Камиль Рашитович, М05-401."
   ]
  },
  {
   "cell_type": "markdown",
   "metadata": {},
   "source": [
    "В этом домашнем задании предлагается решить задачу управления с непрерывными действиями, используя алгоритмы:\n",
    "\n",
    "- **Twin Delayed DDPG (TD3)** (**Раздел 6.1.6 (Алгоритм 23)**)\n",
    "- **Soft Actor-Critic (SAC)** (**Раздел 6.2.4 (Алгоритм 24)**)\n",
    "\n",
    "Оба алгоритма являются off-policy и считаются одними из наиболее эффективных для задач управления в непрерывном пространстве действий. Они основаны на базовом алгоритме **Deep Deterministic Policy Gradient (DDPG)** (**Раздел 6.1.5 (Алгоритм 22)**), который можно представить как \"DQN с отдельной нейросетью для аппроксимации жадной политики\". Основные отличия заключаются в различных стабилизационных приёмах:\n",
    "\n",
    "- TD3 обучает детерминированную политику, тогда как SAC использует стохастическую политику. Это означает, что в SAC достаточно просто сэмплировать действия из политики для исследования, в то время как в TD3 необходимо вручную добавлять шум к действиям.\n",
    "- TD3 добавляет к действиям обрезанный шум (clipped noise) при расчёте целевых значений, что помогает бороться с переоценкой. SAC использует формализм максимальной энтропии и добавляет бонус за энтропию в функцию ценности, поощряя более разнообразные действия."
   ]
  },
  {
   "cell_type": "code",
   "execution_count": null,
   "metadata": {
    "ExecuteTime": {
     "end_time": "2025-04-24T08:13:43.167674Z",
     "start_time": "2025-04-24T08:13:43.161443Z"
    },
    "tags": []
   },
   "outputs": [],
   "source": [
    "import datetime\n",
    "import numpy as np\n",
    "import matplotlib.pyplot as plt\n",
    "from tqdm.notebook import trange\n",
    "from queue import deque\n",
    "from pathlib import Path\n",
    "from IPython.display import HTML\n",
    "\n",
    "import gymnasium as gym\n",
    "from gymnasium.wrappers import RecordVideo\n",
    "\n",
    "import torch\n",
    "import torch.nn as nn\n",
    "from torch.distributions import Normal\n",
    "\n",
    "from logger import TensorboardSummaries as Summaries"
   ]
  },
  {
   "cell_type": "code",
   "execution_count": 2,
   "metadata": {
    "ExecuteTime": {
     "end_time": "2025-04-24T08:13:43.374789Z",
     "start_time": "2025-04-24T08:13:43.369879Z"
    },
    "tags": []
   },
   "outputs": [
    {
     "data": {
      "text/plain": [
       "'cpu'"
      ]
     },
     "execution_count": 2,
     "metadata": {},
     "output_type": "execute_result"
    }
   ],
   "source": [
    "DEVICE = \"cuda\" if torch.cuda.is_available() else \"cpu\"\n",
    "DEVICE"
   ]
  },
  {
   "cell_type": "markdown",
   "metadata": {},
   "source": [
    "## Среда"
   ]
  },
  {
   "cell_type": "markdown",
   "metadata": {},
   "source": [
    "Сначала мы создадим экземпляр среды."
   ]
  },
  {
   "cell_type": "code",
   "execution_count": 3,
   "metadata": {
    "ExecuteTime": {
     "end_time": "2025-04-24T08:13:43.931381Z",
     "start_time": "2025-04-24T08:13:43.916456Z"
    },
    "scrolled": true,
    "tags": []
   },
   "outputs": [
    {
     "name": "stdout",
     "output_type": "stream",
     "text": [
      "Размерность вектора состояний dim = 24\n",
      "n_actions = 4\n"
     ]
    }
   ],
   "source": [
    "env = gym.make(\"BipedalWalker-v3\", render_mode=\"rgb_array\")\n",
    "\n",
    "env.reset()\n",
    "\n",
    "state_dim = env.observation_space.shape[0]\n",
    "action_dim = env.action_space.shape[0]\n",
    "\n",
    "print(\"Размерность вектора состояний dim =\", state_dim)\n",
    "print(\"n_actions =\", action_dim)"
   ]
  },
  {
   "cell_type": "markdown",
   "metadata": {},
   "source": [
    "Посмотрим на среду."
   ]
  },
  {
   "cell_type": "code",
   "execution_count": 4,
   "metadata": {
    "ExecuteTime": {
     "end_time": "2025-04-24T08:13:44.371255Z",
     "start_time": "2025-04-24T08:13:44.271132Z"
    }
   },
   "outputs": [
    {
     "data": {
      "image/png": "[encoded data removed]",
      "text/plain": [
       "<Figure size 640x480 with 1 Axes>"
      ]
     },
     "metadata": {},
     "output_type": "display_data"
    }
   ],
   "source": [
    "plt.imshow(env.render());"
   ]
  },
  {
   "cell_type": "markdown",
   "metadata": {},
   "source": [
    "Давайте посмотрим на случайную политику и посмотрим, как это выглядит."
   ]
  },
  {
   "cell_type": "code",
   "execution_count": 5,
   "metadata": {
    "ExecuteTime": {
     "end_time": "2025-04-24T08:13:44.637836Z",
     "start_time": "2025-04-24T08:13:44.636248Z"
    }
   },
   "outputs": [],
   "source": [
    "class RandomActor():\n",
    "    def get_action(self, states):\n",
    "        assert len(states.shape) == 1, \"Не работает с батчами\"\n",
    "        return env.action_space.sample()"
   ]
  },
  {
   "cell_type": "code",
   "execution_count": 6,
   "metadata": {
    "ExecuteTime": {
     "end_time": "2025-04-24T08:13:45.835552Z",
     "start_time": "2025-04-24T08:13:44.806511Z"
    },
    "scrolled": true
   },
   "outputs": [
    {
     "name": "stdout",
     "output_type": "stream",
     "text": [
      "done:  1599\n",
      "done:  3199\n",
      "done:  3287\n",
      "done:  4887\n",
      "done:  5022\n",
      "done:  5078\n",
      "done:  5182\n",
      "done:  5311\n",
      "done:  5371\n",
      "done:  5417\n",
      "done:  5482\n",
      "done:  5566\n",
      "done:  7166\n",
      "done:  7303\n",
      "done:  7385\n",
      "done:  8985\n",
      "done:  9039\n",
      "done:  9088\n",
      "done:  9145\n",
      "done:  9209\n",
      "done:  9260\n",
      "done:  9355\n"
     ]
    }
   ],
   "source": [
    "s, _ = env.reset()\n",
    "rewards_per_step = []\n",
    "actor = RandomActor()\n",
    "\n",
    "for i in range(10000):\n",
    "    a = actor.get_action(s)\n",
    "    s, r, terminated, truncated, _ = env.step(a)\n",
    "\n",
    "    rewards_per_step.append(r)\n",
    "\n",
    "    if terminated or truncated:\n",
    "        s, _ = env.reset()\n",
    "        print(\"done: \", i)"
   ]
  },
  {
   "cell_type": "markdown",
   "metadata": {},
   "source": [
    "В основном, каждый эпизод длится **1600 шагов** &mdash; это ограничение по времени, после которого происходит завершение эпизода. Однако иногда эпизод завершается раньше, если симуляция \"понимает\", что агент, например, **упал** или **разбился** &mdash; то есть ситуация явно неудачная для продолжения."
   ]
  },
  {
   "cell_type": "markdown",
   "metadata": {},
   "source": [
    "Посмотрим, что мы получаем при использовании случайной политики."
   ]
  },
  {
   "cell_type": "code",
   "execution_count": 7,
   "metadata": {
    "ExecuteTime": {
     "end_time": "2025-04-24T08:13:45.839119Z",
     "start_time": "2025-04-24T08:13:45.836680Z"
    }
   },
   "outputs": [],
   "source": [
    "def evaluate(env, actor, n_games=1, t_max=1600):\n",
    "    '''\n",
    "    Запускает n_games эпизодов и возвращает массив наград.\n",
    "\n",
    "    Возвращает\n",
    "    -------\n",
    "    rewards: np.array\n",
    "        Массив наград\n",
    "    '''\n",
    "    rewards = []\n",
    "\n",
    "    for _ in range(n_games):\n",
    "        s, _ = env.reset()\n",
    "        R = 0\n",
    "\n",
    "        for _ in range(t_max):\n",
    "\n",
    "            ### Ваш код\n",
    "            action = actor.get_action(s)\n",
    "            ###\n",
    "\n",
    "            assert (action.max() <= 1).all() and  (action.min() >= -1).all()\n",
    "\n",
    "            s, r, terminated, truncated, _ = env.step(action)\n",
    "\n",
    "            R += r\n",
    "\n",
    "            if terminated or truncated:\n",
    "                break\n",
    "\n",
    "        rewards.append(R)\n",
    "\n",
    "    return np.array(rewards)"
   ]
  },
  {
   "cell_type": "code",
   "execution_count": 8,
   "metadata": {
    "ExecuteTime": {
     "end_time": "2025-04-24T08:13:47.180382Z",
     "start_time": "2025-04-24T08:13:45.839786Z"
    }
   },
   "outputs": [
    {
     "name": "stderr",
     "output_type": "stream",
     "text": [
      "/Users/lotfullin/Experiments/ReinforcedLearning/Непрерывное_управление/.venv/lib/python3.9/site-packages/gymnasium/wrappers/rendering.py:283: UserWarning: \u001b[33mWARN: Overwriting existing videos at /Users/lotfullin/Experiments/ReinforcedLearning/Непрерывное_управление/videos_test folder (try specifying a different `video_folder` for the `RecordVideo` wrapper if this is not desired)\u001b[0m\n",
      "  logger.warn(\n"
     ]
    }
   ],
   "source": [
    "with RecordVideo(\n",
    "    env = gym.make(\"BipedalWalker-v3\", render_mode=\"rgb_array\"),\n",
    "    video_folder=\"./videos_test\"\n",
    ") as env_monitor:\n",
    "    evaluate(env_monitor, actor, n_games=1, t_max=300)"
   ]
  },
  {
   "cell_type": "code",
   "execution_count": 9,
   "metadata": {
    "ExecuteTime": {
     "end_time": "2025-04-24T08:13:47.184346Z",
     "start_time": "2025-04-24T08:13:47.181920Z"
    }
   },
   "outputs": [
    {
     "data": {
      "text/html": [
       "\n",
       "<video width=\"640\" height=\"480\" controls>\n",
       "  <source src=\"videos_test/rl-video-episode-0.mp4\" type=\"video/mp4\">\n",
       "</video>\n"
      ],
      "text/plain": [
       "<IPython.core.display.HTML object>"
      ]
     },
     "execution_count": 9,
     "metadata": {},
     "output_type": "execute_result"
    }
   ],
   "source": [
    "video_paths = sorted([s for s in Path('videos_test').iterdir() if s.suffix == '.mp4'])\n",
    "video_path = video_paths[-1]\n",
    "\n",
    "data_url = str(video_path)\n",
    "\n",
    "HTML(\"\"\"\n",
    "<video width=\"640\" height=\"480\" controls>\n",
    "  <source src=\"{}\" type=\"video/mp4\">\n",
    "</video>\n",
    "\"\"\".format(data_url))"
   ]
  },
  {
   "cell_type": "markdown",
   "metadata": {},
   "source": [
    "# Буфер"
   ]
  },
  {
   "cell_type": "markdown",
   "metadata": {},
   "source": [
    "То же самое, что и в DQN. Вы можете просто скопировать код из вашего задания по DQN.\n",
    "\n",
    "#### Напомним интерфейс:\n",
    "* `exp_replay.add(obs, act, rw, next_obs, done)`  &mdash; сохраняет кортеж (s,a,r,s',done) в буфер.\n",
    "* `exp_replay.sample(batch_size)` &mdash; возвращает наблюдения, действия, награды, следующие наблюдения и is_done для `batch_size` случайных сэмплов.\n",
    "* `len(exp_replay)` &mdash; возвращает количество элементов, хранящихся в буфере на данный момент."
   ]
  },
  {
   "cell_type": "code",
   "execution_count": 10,
   "metadata": {
    "ExecuteTime": {
     "end_time": "2025-04-24T08:13:47.196890Z",
     "start_time": "2025-04-24T08:13:47.184939Z"
    }
   },
   "outputs": [],
   "source": [
    "class ReplayBuffer(object):\n",
    "    def __init__(self, size):\n",
    "        \"\"\"\n",
    "        Создаёт буфер реплеев.\n",
    "        \"\"\"\n",
    "        self._storage = deque(maxlen=size)\n",
    "        self._maxsize = size\n",
    "\n",
    "    def __len__(self):\n",
    "        return len(self._storage)\n",
    "\n",
    "    def add_random(self, obs_t, action, reward, obs_tp1, done):\n",
    "        '''\n",
    "        Убедитесь, что _storage не превзойдёт по размерам _maxsize.\n",
    "        Убедитесь, что FIFO правило выполняется: старейшие прецеденты должны удаляться раньше всех.\n",
    "        '''\n",
    "        data = (obs_t, action, reward, obs_tp1, done)\n",
    "        self._storage.append(data)\n",
    "\n",
    "    def sample_random(self, batch_size):\n",
    "        \"\"\"\n",
    "        Сэмплирование батча переходов.\n",
    "\n",
    "        Возвращает\n",
    "        -------\n",
    "        obs_batch: np.array\n",
    "            батч наблюдений (состояний)\n",
    "        act_batch: np.array\n",
    "            батч действий, выполненных на основе obs_batch\n",
    "        rew_batch: np.array\n",
    "            награды, полученные в качестве результата выполнения act_batch\n",
    "        next_obs_batch: np.array\n",
    "            следующие наблюдения (состояния), полученные после выполнения act_batch\n",
    "        done_mask: np.array\n",
    "            done_mask[i] = 1, если выполнение act_batch[i] повлекло\n",
    "            окончание эпизода и 0 иначе.\n",
    "        \"\"\"\n",
    "\n",
    "        #< случайно сгенерировать batch_size индексов сэмплов в буфере >\n",
    "        indices = np.random.choice(len(self._storage), batch_size, replace=False)\n",
    "\n",
    "        # собрать <s,a,r,s',done> для каждого индекса\n",
    "        states, actions, rewards, next_states, dones = [], [], [], [], []\n",
    "        for idx in indices:\n",
    "            sample = self._storage[idx]\n",
    "            states.append(sample[0])\n",
    "            actions.append(sample[1])\n",
    "            rewards.append(sample[2])\n",
    "            next_states.append(sample[3])\n",
    "            dones.append(sample[4])\n",
    "        # < states > , < actions >, < rewards >,  < next_states >, < is_done >\n",
    "        return (\n",
    "            np.array(states),\n",
    "            np.array(actions),\n",
    "            np.array(rewards),\n",
    "            np.array(next_states),\n",
    "            np.array(dones)\n",
    "        )"
   ]
  },
  {
   "cell_type": "markdown",
   "metadata": {},
   "source": [
    "Протестим."
   ]
  },
  {
   "cell_type": "code",
   "execution_count": 11,
   "metadata": {
    "ExecuteTime": {
     "end_time": "2025-04-24T08:13:47.271903Z",
     "start_time": "2025-04-24T08:13:47.197662Z"
    }
   },
   "outputs": [],
   "source": [
    "exp_replay = ReplayBuffer(10)\n",
    "\n",
    "for _ in range(30):\n",
    "    exp_replay.add_random(env.reset()[0], env.action_space.sample(), 1.0, env.reset()[0], done=False)\n",
    "\n",
    "obs_batch, act_batch, reward_batch, next_obs_batch, is_done_batch = exp_replay.sample_random(5)\n",
    "\n",
    "assert len(exp_replay) == 10, \"Размер буфера должен быть равен 10, потому что это максимальная вместимость\""
   ]
  },
  {
   "cell_type": "markdown",
   "metadata": {},
   "source": [
    "Функция для записи в буфер."
   ]
  },
  {
   "cell_type": "code",
   "execution_count": 12,
   "metadata": {
    "ExecuteTime": {
     "end_time": "2025-04-24T08:13:47.274946Z",
     "start_time": "2025-04-24T08:13:47.272633Z"
    }
   },
   "outputs": [],
   "source": [
    "def play_and_record(initial_state, agent, env, exp_replay, n_steps=1):\n",
    "    \"\"\"\n",
    "    Играется в среде ровно n шагов и записывается каждая пятёрка (s, a, r, s', done) в буффер.\n",
    "\n",
    "    Возвращает\n",
    "    -------\n",
    "        sum_rewards: float\n",
    "            суммарную награду за n шагов.\n",
    "        s: float\n",
    "            состояние, в котором осталась среда.\n",
    "    \"\"\"\n",
    "    s = initial_state\n",
    "    sum_rewards = 0\n",
    "\n",
    "    for t in range(n_steps):\n",
    "\n",
    "        ### Ваш код\n",
    "        a = agent.get_action(s)\n",
    "        ###\n",
    "\n",
    "        ns, r, terminated, truncated, _ = env.step(a)\n",
    "\n",
    "        exp_replay.add_random(s, a, r, ns, terminated)\n",
    "\n",
    "        s = env.reset()[0] if terminated or truncated else ns\n",
    "\n",
    "        sum_rewards += r\n",
    "\n",
    "    return sum_rewards, s"
   ]
  },
  {
   "cell_type": "markdown",
   "metadata": {
    "ExecuteTime": {
     "end_time": "2025-04-23T20:54:30.667197Z",
     "start_time": "2025-04-23T20:54:30.663277Z"
    }
   },
   "source": [
    "# Критик"
   ]
  },
  {
   "cell_type": "markdown",
   "metadata": {},
   "source": [
    "Давайте начнём с модели критика &mdash; она одинаковая для **TD3** и **SAC**. С одной стороны, он будет приближать оптимальную функцию $Q^*(s, a)$, а с другой &mdash; оценивать текущего актора $\\pi$, то есть рассматриваться как \n",
    "$Q^{\\pi}(s, a)$. Этот критик принимает на вход как состояние $s$, так и действие $a,$ а на выходе выдаёт скалярное значение.\n",
    "\n",
    "Важно: если модель возвращает скаляр на выходе, хорошей практикой является применение .squeeze(), чтобы избежать неожиданного broadcast-а, поскольку тензор формы [batch_size, 1] может автоматически расширяться при операциях с другими тензорами.\n",
    "\n",
    "Рекомендуемая архитектура &mdash; полносвязная нейронная сеть (MLP) с тремя слоями."
   ]
  },
  {
   "cell_type": "markdown",
   "metadata": {},
   "source": [
    "<span style=\"color: green\"> __(1 балл)__ </span>"
   ]
  },
  {
   "cell_type": "code",
   "execution_count": 13,
   "metadata": {
    "ExecuteTime": {
     "end_time": "2025-04-24T08:13:47.907009Z",
     "start_time": "2025-04-24T08:13:47.895580Z"
    }
   },
   "outputs": [],
   "source": [
    "class Critic(nn.Module):\n",
    "    def __init__(self, state_dim, action_dim, hidden_dim=256):\n",
    "        super().__init__()\n",
    "\n",
    "        ### Ваш код\n",
    "        self.net = nn.Sequential(\n",
    "            nn.Linear(state_dim + action_dim, hidden_dim),\n",
    "            nn.ReLU(),\n",
    "            nn.Linear(hidden_dim, hidden_dim),\n",
    "            nn.ReLU(),\n",
    "            nn.Linear(hidden_dim, 1)\n",
    "        )\n",
    "        ###\n",
    "\n",
    "    def forward(self, states, actions):\n",
    "\n",
    "        ### Ваш код\n",
    "        x = torch.cat([states, actions], dim=-1)\n",
    "        output = self.net(x)\n",
    "        ###\n",
    "\n",
    "        return output\n",
    "\n",
    "    def get_qvalues(self, states, actions):\n",
    "        '''\n",
    "        Возвращает qvalues\n",
    "\n",
    "        Параметры\n",
    "        ----------\n",
    "        states: torch.tensor [batch_size x features]\n",
    "        actions: torch.tensor [batch_size x actions_dim]\n",
    "\n",
    "        Возвращает\n",
    "        -------\n",
    "        qvalues: torch.tensor [batch_size]\n",
    "        '''\n",
    "        ### Ваш код\n",
    "        qvalues = self.forward(states, actions).squeeze(-1)\n",
    "        ###\n",
    "\n",
    "        assert len(qvalues.shape) == 1 and qvalues.shape[0] == states.shape[0]\n",
    "\n",
    "        return qvalues"
   ]
  },
  {
   "cell_type": "markdown",
   "metadata": {},
   "source": [
    "# TD3"
   ]
  },
  {
   "cell_type": "code",
   "execution_count": 14,
   "metadata": {
    "ExecuteTime": {
     "end_time": "2025-04-24T08:13:48.310526Z",
     "start_time": "2025-04-24T08:13:48.301042Z"
    }
   },
   "outputs": [],
   "source": [
    "env = gym.make(\"BipedalWalker-v3\", render_mode=\"rgb_array\")\n",
    "env = Summaries(env, \"TD3\")"
   ]
  },
  {
   "cell_type": "markdown",
   "metadata": {},
   "source": [
    "Определим политику, или актора $\\pi$. Необходимо смоделировать детерминированную политику. То есть, модель должна возвращать `action_dim` чисел в диапазоне $[-1, 1]$. К сожалению, детерминированные политики могут вызывать проблемы со стабильностью и исследованием, поэтому нам потребуется реализовать три \"режима\" работы этой политики:\n",
    "\n",
    "1. Первый режим &mdash; **жадный** &mdash; это просто прямой проход через сеть. Он будет использоваться для обучения актора.\n",
    "2. Второй режим &mdash; **режим исследования** &mdash; когда нужно добавить шум (например, гауссовский), чтобы собирать более разнообразные данные.\n",
    "3. Третий режим &mdash; **\"обрезанный шум\"** &mdash; используется при расчёте целевого значения для критика. Здесь мы хотим добавить шум к выходу актора, но не слишком сильный, поэтому используем обрезанный шум:\n",
    "$$\\pi_{\\theta}(s) + \\varepsilon, \\quad \\varepsilon = \\operatorname{clip}(\\epsilon, -0.5, 0.5), \\quad \\epsilon \\sim \\mathcal{N}(0, \\sigma^2 I)$$\n",
    "\n",
    "Рекомендуемая архитектура &mdash; полносвязная нейросеть (MLP) с тремя слоями."
   ]
  },
  {
   "cell_type": "markdown",
   "metadata": {},
   "source": [
    "<span style=\"color: green\"> __(2 балла)__ </span>"
   ]
  },
  {
   "cell_type": "code",
   "execution_count": 15,
   "metadata": {
    "ExecuteTime": {
     "end_time": "2025-04-24T08:13:49.201849Z",
     "start_time": "2025-04-24T08:13:49.191425Z"
    },
    "tags": []
   },
   "outputs": [],
   "source": [
    "class TD3_Actor(nn.Module):\n",
    "    def __init__(self, state_dim, action_dim, device, hidden_dim=256):\n",
    "        super().__init__()\n",
    "        self.device = device\n",
    "\n",
    "        ### Ваш код\n",
    "        self.net = nn.Sequential(\n",
    "            nn.Linear(state_dim, hidden_dim),\n",
    "            nn.ReLU(),\n",
    "            nn.Linear(hidden_dim, hidden_dim),\n",
    "            nn.ReLU(),\n",
    "            nn.Linear(hidden_dim, action_dim),\n",
    "            nn.Tanh()\n",
    "        )\n",
    "        ###\n",
    "\n",
    "    def forward(self, state):\n",
    "        ### Ваш код\n",
    "        output = self.net(state)\n",
    "        ###\n",
    "        return output\n",
    "\n",
    "    def get_best_action(self, states):\n",
    "        '''\n",
    "        Используется для оптимизации актора.\n",
    "        Требуется, чтобы действия были дифференцируемыми по параметрам модели.\n",
    "\n",
    "        Параметры\n",
    "        ----------\n",
    "        states: torch.tensor [batch_size x features]\n",
    "\n",
    "        Возвращает\n",
    "        -------\n",
    "        actions: torch.tensor [batch_size x actions_dim]\n",
    "        '''\n",
    "        ### Ваш код\n",
    "        actions = self.forward(states)\n",
    "        ###\n",
    "\n",
    "        return actions\n",
    "\n",
    "    def get_action(self, states, std_noise=0.1):\n",
    "        '''\n",
    "        Используется для взаимодействия с окружающей средой и сбора данных.\n",
    "        Поэтому к действиям необходимо добавлять шум.\n",
    "\n",
    "        Параметры\n",
    "        ----------\n",
    "        states: np.array [batch_size x features]\n",
    "        std_noise: float\n",
    "\n",
    "        Возвращает\n",
    "        -------\n",
    "        actions: np.array [batch_size x actions_dim]\n",
    "        '''\n",
    "        # Градиенты тут не нужны, так как используется только для взаимодействия\n",
    "        with torch.no_grad():\n",
    "\n",
    "            ### Ваш код\n",
    "            states = torch.tensor(states, device=self.device)\n",
    "            # dist = Normal(0, std_noise)\n",
    "            actions = self.forward(states)\n",
    "            actions += torch.normal(0, std_noise, size=actions.shape, device=self.device)\n",
    "            actions = torch.clamp(actions, -1., 1.)\n",
    "\n",
    "            actions = actions.cpu().numpy()\n",
    "            ###\n",
    "\n",
    "            assert actions.max() <= 1. and actions.min() >= -1,\\\n",
    "                \"Действия должны находиться в диапазоне [-1, 1]\"\n",
    "        return actions\n",
    "\n",
    "\n",
    "    def get_target_action(self, states, std_noise=0.2, clip_eta=0.5):\n",
    "        '''\n",
    "        Используется для генерации целевых значений при обучении критика.\n",
    "        Возвращает действия с добавленным \"обрезанным шумом\".\n",
    "\n",
    "        Параметры\n",
    "        ----------\n",
    "        states: torch.tensor [batch_size x features]\n",
    "        std_noise: float\n",
    "        clip_eta: float\n",
    "\n",
    "        Возвращает\n",
    "        -------\n",
    "        actions: torch.tensor [batch_size x actions_dim]\n",
    "        '''\n",
    "        # Градиенты тут также не нужны, используется только для генерации целевых значений\n",
    "        with torch.no_grad():\n",
    "\n",
    "            ### Ваш код\n",
    "            actions = self.forward(states)\n",
    "            raw_noise = Normal(0, std_noise).sample(actions.shape).to(self.device)\n",
    "            noise = torch.clamp(raw_noise, -clip_eta, clip_eta)\n",
    "            actions = actions + noise\n",
    "            actions = torch.clamp(actions, -1., 1.)\n",
    "            ###\n",
    "\n",
    "            assert actions.max() <= 1. and actions.min() >= -1,\\\n",
    "                \"Действия должны находиться в диапазоне [-1, 1]\"\n",
    "        return actions"
   ]
  },
  {
   "cell_type": "markdown",
   "metadata": {},
   "source": [
    "Протестим."
   ]
  },
  {
   "cell_type": "code",
   "execution_count": 16,
   "metadata": {
    "ExecuteTime": {
     "end_time": "2025-04-24T08:13:50.166671Z",
     "start_time": "2025-04-24T08:13:50.004540Z"
    },
    "tags": []
   },
   "outputs": [
    {
     "name": "stdout",
     "output_type": "stream",
     "text": [
      "Отлично!\n"
     ]
    }
   ],
   "source": [
    "exp_replay = ReplayBuffer(2000)\n",
    "actor = TD3_Actor(state_dim, action_dim, DEVICE).to(DEVICE)\n",
    "\n",
    "state, _ = env.reset()\n",
    "play_and_record(state, actor, env, exp_replay, n_steps=1000)\n",
    "\n",
    "assert len(exp_replay) == 1000, \\\n",
    "    \"play_and_record должен был добавить ровно 1000 шагов, но вместо этого добавил %i\" % len(exp_replay)\n",
    "\n",
    "is_dones = list(zip(*exp_replay._storage))[-1]\n",
    "\n",
    "for _ in range(100):\n",
    "    obs_batch, act_batch, reward_batch, next_obs_batch, is_done_batch = exp_replay.sample_random(10)\n",
    "\n",
    "    assert obs_batch.shape == next_obs_batch.shape == (10,) + (state_dim,), \\\n",
    "        \"Батчи наблюдений и следующих состояний должны иметь форму (10, %d)\" % state_dim\n",
    "\n",
    "    assert act_batch.shape == (10, action_dim), \\\n",
    "        \"Батч действий должен иметь форму (10, 8), но вместо этого: %s\" % str(act_batch.shape)\n",
    "\n",
    "    assert reward_batch.shape == (10,), \\\n",
    "        \"Батч наград должен иметь форму (10,), но вместо этого: %s\" % str(reward_batch.shape)\n",
    "\n",
    "    assert is_done_batch.shape == (10,), \\\n",
    "        \"Батч is_done должен иметь форму (10,), но вместо этого: %s\" % str(is_done_batch.shape)\n",
    "\n",
    "    assert [int(i) in (0, 1) for i in is_dones], \\\n",
    "        \"is_done должен быть строго True или False (или 1/0)\"\n",
    "\n",
    "print(\"Отлично!\")"
   ]
  },
  {
   "cell_type": "markdown",
   "metadata": {},
   "source": [
    "## Инициализация"
   ]
  },
  {
   "cell_type": "code",
   "execution_count": 17,
   "metadata": {
    "ExecuteTime": {
     "end_time": "2025-04-24T08:13:50.990771Z",
     "start_time": "2025-04-24T08:13:50.988283Z"
    }
   },
   "outputs": [],
   "source": [
    "max_buffer_size = 10**6\n",
    "exp_replay = ReplayBuffer(max_buffer_size)"
   ]
  },
  {
   "cell_type": "code",
   "execution_count": 18,
   "metadata": {
    "ExecuteTime": {
     "end_time": "2025-04-24T08:13:51.367535Z",
     "start_time": "2025-04-24T08:13:51.358427Z"
    },
    "tags": []
   },
   "outputs": [],
   "source": [
    "actor = TD3_Actor(state_dim, action_dim, DEVICE).to(DEVICE)\n",
    "critic1 = Critic(state_dim, action_dim).to(DEVICE)\n",
    "critic2 = Critic(state_dim, action_dim).to(DEVICE)"
   ]
  },
  {
   "cell_type": "markdown",
   "metadata": {},
   "source": [
    "Чтобы стабилизировать обучение, нам понадобятся целевые сети &mdash; медленно обновляемые копии наших моделей."
   ]
  },
  {
   "cell_type": "code",
   "execution_count": 19,
   "metadata": {
    "ExecuteTime": {
     "end_time": "2025-04-24T08:13:51.835845Z",
     "start_time": "2025-04-24T08:13:51.822962Z"
    },
    "tags": []
   },
   "outputs": [],
   "source": [
    "target_actor = TD3_Actor(state_dim, action_dim, DEVICE).to(DEVICE)\n",
    "target_critic1 = Critic(state_dim, action_dim).to(DEVICE)\n",
    "target_critic2 = Critic(state_dim, action_dim).to(DEVICE)\n",
    "\n",
    "target_actor.load_state_dict(actor.state_dict())\n",
    "target_critic1.load_state_dict(critic1.state_dict())\n",
    "target_critic2.load_state_dict(critic2.state_dict());"
   ]
  },
  {
   "cell_type": "markdown",
   "metadata": {},
   "source": [
    "В задачах с непрерывным управлением целевые сети обычно обновляются с использованием экспоненциального сглаживания:\n",
    "$$\\theta^{-} \\leftarrow \\tau \\theta + (1 - \\tau) \\theta^{-},$$\n",
    "где $\\theta^{-}$ &mdash; веса дополнительной сети, $\\theta$ &mdash; текущие параметры модели, а $\\tau$ &mdash; гиперпараметр (коэффициент обновления)."
   ]
  },
  {
   "cell_type": "code",
   "execution_count": 20,
   "metadata": {
    "ExecuteTime": {
     "end_time": "2025-04-24T08:13:52.256363Z",
     "start_time": "2025-04-24T08:13:52.250709Z"
    }
   },
   "outputs": [],
   "source": [
    "def update_target_networks(model, target_model, tau=0.005):\n",
    "    for param, target_param in zip(model.parameters(), target_model.parameters()):\n",
    "          target_param.data.copy_(tau * param.data + (1 - tau) * target_param.data)"
   ]
  },
  {
   "cell_type": "markdown",
   "metadata": {},
   "source": [
    "Наконец, у нас будет три отдельных процедуры оптимизации для обучения трёх моделей, так что давайте поприветствуем наших трёх Адамов:"
   ]
  },
  {
   "cell_type": "code",
   "execution_count": 21,
   "metadata": {
    "ExecuteTime": {
     "end_time": "2025-04-24T08:13:52.658128Z",
     "start_time": "2025-04-24T08:13:52.650846Z"
    }
   },
   "outputs": [],
   "source": [
    "opt_actor = torch.optim.Adam(actor.parameters(), lr=3e-4)\n",
    "opt_critic1 = torch.optim.Adam(critic1.parameters(), lr=3e-4)\n",
    "opt_critic2 = torch.optim.Adam(critic2.parameters(), lr=3e-4)"
   ]
  },
  {
   "cell_type": "markdown",
   "metadata": {},
   "source": [
    "Функция для оптимизации."
   ]
  },
  {
   "cell_type": "code",
   "execution_count": 22,
   "metadata": {
    "ExecuteTime": {
     "end_time": "2025-04-24T08:13:53.063674Z",
     "start_time": "2025-04-24T08:13:53.057164Z"
    }
   },
   "outputs": [],
   "source": [
    "def optimize(name, model, optimizer, loss, n_iterations, max_grad_norm=10):\n",
    "    '''\n",
    "    Выполняет один шаг оптимизации, ограничивает норму градиента значением max_grad_norm\n",
    "    и логирует всё в TensorBoard.\n",
    "    '''\n",
    "    loss = loss.mean()\n",
    "    optimizer.zero_grad()\n",
    "    loss.backward()\n",
    "    grad_norm = nn.utils.clip_grad_norm_(model.parameters(), max_grad_norm)\n",
    "    optimizer.step()\n",
    "\n",
    "    env.writer.add_scalar(name, loss.item(), n_iterations)\n",
    "    env.writer.add_scalar(name + \"_grad_norm\", grad_norm.item(), n_iterations)"
   ]
  },
  {
   "cell_type": "markdown",
   "metadata": {},
   "source": [
    "## Вычисление целевого значения для критика"
   ]
  },
  {
   "cell_type": "markdown",
   "metadata": {},
   "source": [
    "Для одного сэмплированного перехода $(s, a, r, s')$ целевое значение имеет вид:\n",
    "$$y(s, a) = r + \\gamma V(s').$$\n",
    "Как вычисляется $V(s')$? Формально, оценка Монте-Карло выглядит просто:\n",
    "$$V(s') \\approx Q(s', a'),$$\n",
    "где $a'$ &mdash; это сэмпл из текущей политики $\\pi(a' \\mid s')$.\n",
    "\n",
    "Однако наш актор $\\pi$ обучается выбирать такие действия $a'$, где критик выдаёт наибольшие значения, что может приводить к завышенным оценкам. Чтобы избежать этого, мы используем несколько приёмов:\n",
    "\n",
    "1. Используем двух критиков (берём минимум из их значений):\n",
    "$$V(s') = \\min_{i = 1,2} \\left\\{Q^{-}_i(s', a')\\right\\},$$\n",
    "где $a'$ &mdash; это сэмпл из целевой политики: $\\pi^{-}(a' \\mid s')$.\n",
    "2. Для вычисления $a'$ используется режим с обрезанным шумом, чтобы не позволить политике эксплуатировать узкие пики в $Q$-функции."
   ]
  },
  {
   "cell_type": "markdown",
   "metadata": {
    "ExecuteTime": {
     "end_time": "2025-04-24T01:58:06.138205Z",
     "start_time": "2025-04-24T01:58:06.138199Z"
    }
   },
   "source": [
    "<span style=\"color: green\"> __(0.5 балла)__ </span>"
   ]
  },
  {
   "cell_type": "code",
   "execution_count": 23,
   "metadata": {
    "ExecuteTime": {
     "end_time": "2025-04-24T08:13:54.158713Z",
     "start_time": "2025-04-24T08:13:54.154703Z"
    }
   },
   "outputs": [],
   "source": [
    "def compute_critic_target(rewards, next_states, is_done, target_actor, target_critic1, target_critic2,\n",
    "                          gamma=0.99):\n",
    "    '''\n",
    "    Подсчет loss для критика.\n",
    "\n",
    "    Параметры\n",
    "        ----------\n",
    "        rewards: torch.tensor [batch_size]\n",
    "        next_states: torch.tensor [batch_size x features]\n",
    "        is_done: torch.tensor [batch_size]\n",
    "        gamma: float\n",
    "\n",
    "    Возвращает\n",
    "        -------\n",
    "        critic_target: torch.tensor [batch_size]\n",
    "    '''\n",
    "    with torch.no_grad():\n",
    "\n",
    "        ### Ваш код\n",
    "        is_not_done = 1 - is_done\n",
    "        next_actions = target_actor.get_target_action(next_states)#std_noise=0.05, clip_eta=0.2)\n",
    "        next_actions = torch.tensor(next_actions, device=DEVICE)\n",
    "        q1 =  target_critic1.get_qvalues(next_states, next_actions)\n",
    "        q2 =  target_critic2.get_qvalues(next_states, next_actions)\n",
    "        critic_target = rewards + gamma * torch.min(q1, q2) * is_not_done\n",
    "        ###\n",
    "\n",
    "    return critic_target"
   ]
  },
  {
   "cell_type": "markdown",
   "metadata": {},
   "source": [
    "Для обучения актора мы хотим просто максимизировать:\n",
    "$$\\mathbb{E}_{a \\sim \\pi(a \\mid s)} \\left[Q(s, a)\\right] \\to \\max_{\\pi}.$$\n",
    "Так как политика детерминированная, математическое ожидание сводится к:\n",
    "$$Q(s, \\pi(s)) \\to \\max_{\\pi}.$$\n",
    "\n",
    "**Замечание:**  \n",
    "Мы будем использовать `critic1` в качестве функции $Q$, которую актор будет пытаться \"эксплуатировать\".  "
   ]
  },
  {
   "cell_type": "markdown",
   "metadata": {},
   "source": [
    "<span style=\"color: green\"> __(0.5 балла)__ </span>"
   ]
  },
  {
   "cell_type": "code",
   "execution_count": 24,
   "metadata": {
    "ExecuteTime": {
     "end_time": "2025-04-24T08:13:54.997518Z",
     "start_time": "2025-04-24T08:13:54.991477Z"
    }
   },
   "outputs": [],
   "source": [
    "def compute_actor_loss(states, actor, critic1):\n",
    "    '''\n",
    "    Подсчет loss для актора.\n",
    "\n",
    "\n",
    "    Параметры\n",
    "        ----------\n",
    "        states: torch.tensor [batch_size x features]\n",
    "\n",
    "    Возвращает\n",
    "        -------\n",
    "        actor_loss: torch.tensor [batch_size]\n",
    "    '''\n",
    "    ### Ваш код\n",
    "    actions = actor.get_best_action(states)\n",
    "    q = critic1.get_qvalues(states, actions)\n",
    "    actor_loss = -q.mean()\n",
    "    ###\n",
    "\n",
    "    return actor_loss"
   ]
  },
  {
   "cell_type": "markdown",
   "metadata": {},
   "source": [
    "# Пайплайн"
   ]
  },
  {
   "cell_type": "markdown",
   "metadata": {},
   "source": [
    "Цель &mdash; достичь в среднем хотя бы **300 награды**."
   ]
  },
  {
   "cell_type": "code",
   "execution_count": 25,
   "metadata": {
    "ExecuteTime": {
     "end_time": "2025-04-24T08:13:55.748252Z",
     "start_time": "2025-04-24T08:13:55.741014Z"
    }
   },
   "outputs": [],
   "source": [
    "seed = 4242 # Иногда может сильно не повезти\n",
    "np.random.seed(seed)\n",
    "torch.manual_seed(seed);"
   ]
  },
  {
   "cell_type": "code",
   "execution_count": 26,
   "metadata": {
    "ExecuteTime": {
     "end_time": "2025-04-24T08:13:57.684751Z",
     "start_time": "2025-04-24T08:13:56.642708Z"
    }
   },
   "outputs": [
    {
     "data": {
      "text/html": [
       "\n",
       "      <iframe id=\"tensorboard-frame-88e61a31147b3557\" width=\"100%\" height=\"800\" frameborder=\"0\">\n",
       "      </iframe>\n",
       "      <script>\n",
       "        (function() {\n",
       "          const frame = document.getElementById(\"tensorboard-frame-88e61a31147b3557\");\n",
       "          const url = new URL(\"/\", window.location);\n",
       "          const port = 6007;\n",
       "          if (port) {\n",
       "            url.port = port;\n",
       "          }\n",
       "          frame.src = url;\n",
       "        })();\n",
       "      </script>\n",
       "    "
      ],
      "text/plain": [
       "<IPython.core.display.HTML object>"
      ]
     },
     "metadata": {},
     "output_type": "display_data"
    }
   ],
   "source": [
    "%load_ext tensorboard\n",
    "%tensorboard --logdir logs --port 6007"
   ]
  },
  {
   "cell_type": "code",
   "execution_count": 27,
   "metadata": {
    "ExecuteTime": {
     "end_time": "2025-04-24T08:14:02.418310Z",
     "start_time": "2025-04-24T08:14:02.404628Z"
    },
    "tags": []
   },
   "outputs": [],
   "source": [
    "def run_TD3(env, exp_replay, actor, target_actor, critic1, target_critic1, critic2, target_critic2,\n",
    "            max_grad_norm=10, n_iter_max=1500000, timesteps_per_epoch=1, start_timesteps = 5000,\n",
    "            batch_size=128, policy_update_freq=2, gamma=0.99, tau=0.005):\n",
    "\n",
    "    interaction_state, _ = env.reset()\n",
    "    random_actor = RandomActor()\n",
    "    ### Мой код\n",
    "    mse = nn.MSELoss()\n",
    "    ###\n",
    "\n",
    "    for n_iterations in trange(0, n_iter_max, timesteps_per_epoch):\n",
    "\n",
    "        if len(exp_replay) < start_timesteps:\n",
    "            _, interaction_state = play_and_record(interaction_state, random_actor, env,\n",
    "                                                   exp_replay, timesteps_per_epoch)\n",
    "            continue\n",
    "\n",
    "        _, interaction_state = play_and_record(interaction_state, actor, env, exp_replay, timesteps_per_epoch)\n",
    "\n",
    "        states, actions, rewards, next_states, is_done = exp_replay.sample_random(batch_size)\n",
    "\n",
    "        states = torch.tensor(states, device=DEVICE, dtype=torch.float)\n",
    "        actions = torch.tensor(actions, device=DEVICE, dtype=torch.float)\n",
    "        rewards = torch.tensor(rewards, device=DEVICE, dtype=torch.float)\n",
    "        next_states = torch.tensor(next_states, device=DEVICE, dtype=torch.float)\n",
    "        is_done = torch.tensor(is_done.astype('float32'), device=DEVICE, dtype=torch.float)\n",
    "\n",
    "        ### Ваш код\n",
    "        q_computed = compute_critic_target(rewards, next_states, is_done, target_actor, target_critic1, target_critic2, gamma)\n",
    "\n",
    "        q_crititc1 = critic1.get_qvalues(states, actions)\n",
    "        critic1_loss = mse(q_crititc1, q_computed)\n",
    "        ###\n",
    "        optimize(\"critic1\", critic1, opt_critic1, critic1_loss, n_iterations, max_grad_norm)\n",
    "\n",
    "        ### Ваш код\n",
    "        q_crititc2 = critic2.get_qvalues(states, actions)\n",
    "        critic2_loss = mse(q_crititc2, q_computed)\n",
    "        ###\n",
    "        optimize(\"critic2\", critic2, opt_critic2, critic2_loss, n_iterations, max_grad_norm)\n",
    "\n",
    "        if n_iterations % policy_update_freq == 0:\n",
    "            ### Ваш код\n",
    "            actor_loss = compute_actor_loss(states, actor, critic1)\n",
    "            ###\n",
    "            optimize(\"actor\", actor, opt_actor, actor_loss, n_iterations, max_grad_norm)\n",
    "\n",
    "            update_target_networks(critic1, target_critic1, tau)\n",
    "            update_target_networks(critic2, target_critic2, tau)\n",
    "            update_target_networks(actor, target_actor, tau)"
   ]
  },
  {
   "cell_type": "code",
   "execution_count": null,
   "metadata": {
    "ExecuteTime": {
     "end_time": "2025-04-24T08:42:15.155234Z",
     "start_time": "2025-04-24T08:14:03.190411Z"
    },
    "scrolled": true,
    "tags": []
   },
   "outputs": [
    {
     "ename": "RuntimeError",
     "evalue": "Error(s) in loading state_dict for TD3_Actor:\n\tMissing key(s) in state_dict: \"net.0.weight\", \"net.0.bias\", \"net.2.weight\", \"net.2.bias\", \"net.4.weight\", \"net.4.bias\". \n\tUnexpected key(s) in state_dict: \"base.0.weight\", \"base.0.bias\", \"base.2.weight\", \"base.2.bias\", \"mean_head.weight\", \"mean_head.bias\", \"std_head.weight\", \"std_head.bias\". ",
     "output_type": "error",
     "traceback": [
      "\u001b[0;31m---------------------------------------------------------------------------\u001b[0m",
      "\u001b[0;31mRuntimeError\u001b[0m                              Traceback (most recent call last)",
      "Cell \u001b[0;32mIn[30], line 4\u001b[0m\n\u001b[1;32m      1\u001b[0m \u001b[38;5;28;01mimport\u001b[39;00m\u001b[38;5;250m \u001b[39m\u001b[38;5;21;01mos\u001b[39;00m\n\u001b[1;32m      3\u001b[0m \u001b[38;5;28;01mif\u001b[39;00m os\u001b[38;5;241m.\u001b[39mpath\u001b[38;5;241m.\u001b[39misfile(\u001b[38;5;124m\"\u001b[39m\u001b[38;5;124m./weights/TD3/best.pth\u001b[39m\u001b[38;5;124m\"\u001b[39m):\n\u001b[0;32m----> 4\u001b[0m     \u001b[43mactor\u001b[49m\u001b[38;5;241;43m.\u001b[39;49m\u001b[43mload_state_dict\u001b[49m\u001b[43m(\u001b[49m\u001b[43mtorch\u001b[49m\u001b[38;5;241;43m.\u001b[39;49m\u001b[43mload\u001b[49m\u001b[43m(\u001b[49m\u001b[38;5;124;43m\"\u001b[39;49m\u001b[38;5;124;43m./weights/TD3/best.pth\u001b[39;49m\u001b[38;5;124;43m\"\u001b[39;49m\u001b[43m)\u001b[49m\u001b[43m)\u001b[49m\n\u001b[1;32m      5\u001b[0m \u001b[38;5;28;01melse\u001b[39;00m:\n\u001b[1;32m      6\u001b[0m     run_TD3(env, exp_replay, actor, target_actor, critic1, target_critic1, critic2, target_critic2,\n\u001b[1;32m      7\u001b[0m             max_grad_norm\u001b[38;5;241m=\u001b[39m\u001b[38;5;241m10\u001b[39m, n_iter_max\u001b[38;5;241m=\u001b[39m\u001b[38;5;241m1_000_000\u001b[39m, timesteps_per_epoch\u001b[38;5;241m=\u001b[39m\u001b[38;5;241m1\u001b[39m, start_timesteps\u001b[38;5;241m=\u001b[39m\u001b[38;5;241m25_000\u001b[39m,\n\u001b[1;32m      8\u001b[0m             batch_size\u001b[38;5;241m=\u001b[39m\u001b[38;5;241m256\u001b[39m, policy_update_freq\u001b[38;5;241m=\u001b[39m\u001b[38;5;241m2\u001b[39m, gamma\u001b[38;5;241m=\u001b[39m\u001b[38;5;241m0.99\u001b[39m, tau\u001b[38;5;241m=\u001b[39m\u001b[38;5;241m0.005\u001b[39m)\n",
      "File \u001b[0;32m~/Experiments/ReinforcedLearning/Непрерывное_управление/.venv/lib/python3.9/site-packages/torch/nn/modules/module.py:2593\u001b[0m, in \u001b[0;36mModule.load_state_dict\u001b[0;34m(self, state_dict, strict, assign)\u001b[0m\n\u001b[1;32m   2585\u001b[0m         error_msgs\u001b[38;5;241m.\u001b[39minsert(\n\u001b[1;32m   2586\u001b[0m             \u001b[38;5;241m0\u001b[39m,\n\u001b[1;32m   2587\u001b[0m             \u001b[38;5;124m\"\u001b[39m\u001b[38;5;124mMissing key(s) in state_dict: \u001b[39m\u001b[38;5;132;01m{}\u001b[39;00m\u001b[38;5;124m. \u001b[39m\u001b[38;5;124m\"\u001b[39m\u001b[38;5;241m.\u001b[39mformat(\n\u001b[1;32m   2588\u001b[0m                 \u001b[38;5;124m\"\u001b[39m\u001b[38;5;124m, \u001b[39m\u001b[38;5;124m\"\u001b[39m\u001b[38;5;241m.\u001b[39mjoin(\u001b[38;5;124mf\u001b[39m\u001b[38;5;124m'\u001b[39m\u001b[38;5;124m\"\u001b[39m\u001b[38;5;132;01m{\u001b[39;00mk\u001b[38;5;132;01m}\u001b[39;00m\u001b[38;5;124m\"\u001b[39m\u001b[38;5;124m'\u001b[39m \u001b[38;5;28;01mfor\u001b[39;00m k \u001b[38;5;129;01min\u001b[39;00m missing_keys)\n\u001b[1;32m   2589\u001b[0m             ),\n\u001b[1;32m   2590\u001b[0m         )\n\u001b[1;32m   2592\u001b[0m \u001b[38;5;28;01mif\u001b[39;00m \u001b[38;5;28mlen\u001b[39m(error_msgs) \u001b[38;5;241m>\u001b[39m \u001b[38;5;241m0\u001b[39m:\n\u001b[0;32m-> 2593\u001b[0m     \u001b[38;5;28;01mraise\u001b[39;00m \u001b[38;5;167;01mRuntimeError\u001b[39;00m(\n\u001b[1;32m   2594\u001b[0m         \u001b[38;5;124m\"\u001b[39m\u001b[38;5;124mError(s) in loading state_dict for \u001b[39m\u001b[38;5;132;01m{}\u001b[39;00m\u001b[38;5;124m:\u001b[39m\u001b[38;5;130;01m\\n\u001b[39;00m\u001b[38;5;130;01m\\t\u001b[39;00m\u001b[38;5;132;01m{}\u001b[39;00m\u001b[38;5;124m\"\u001b[39m\u001b[38;5;241m.\u001b[39mformat(\n\u001b[1;32m   2595\u001b[0m             \u001b[38;5;28mself\u001b[39m\u001b[38;5;241m.\u001b[39m\u001b[38;5;18m__class__\u001b[39m\u001b[38;5;241m.\u001b[39m\u001b[38;5;18m__name__\u001b[39m, \u001b[38;5;124m\"\u001b[39m\u001b[38;5;130;01m\\n\u001b[39;00m\u001b[38;5;130;01m\\t\u001b[39;00m\u001b[38;5;124m\"\u001b[39m\u001b[38;5;241m.\u001b[39mjoin(error_msgs)\n\u001b[1;32m   2596\u001b[0m         )\n\u001b[1;32m   2597\u001b[0m     )\n\u001b[1;32m   2598\u001b[0m \u001b[38;5;28;01mreturn\u001b[39;00m _IncompatibleKeys(missing_keys, unexpected_keys)\n",
      "\u001b[0;31mRuntimeError\u001b[0m: Error(s) in loading state_dict for TD3_Actor:\n\tMissing key(s) in state_dict: \"net.0.weight\", \"net.0.bias\", \"net.2.weight\", \"net.2.bias\", \"net.4.weight\", \"net.4.bias\". \n\tUnexpected key(s) in state_dict: \"base.0.weight\", \"base.0.bias\", \"base.2.weight\", \"base.2.bias\", \"mean_head.weight\", \"mean_head.bias\", \"std_head.weight\", \"std_head.bias\". "
     ]
    }
   ],
   "source": [
    "run_TD3(env, exp_replay, actor, target_actor, critic1, target_critic1, critic2, target_critic2,\n",
    "        max_grad_norm=10, n_iter_max=1_000_000, timesteps_per_epoch=1, start_timesteps=25_000,\n",
    "        batch_size=256, policy_update_freq=2, gamma=0.99, tau=0.005)"
   ]
  },
  {
   "cell_type": "markdown",
   "metadata": {},
   "source": [
    "## Оценка"
   ]
  },
  {
   "cell_type": "markdown",
   "metadata": {
    "ExecuteTime": {
     "end_time": "2025-04-24T01:58:06.141979Z",
     "start_time": "2025-04-24T01:58:06.141974Z"
    }
   },
   "source": [
    "<span style=\"color: green\"> __(1.5 балла)__ </span>"
   ]
  },
  {
   "cell_type": "code",
   "execution_count": null,
   "metadata": {
    "ExecuteTime": {
     "end_time": "2025-04-24T08:42:19.633149Z",
     "start_time": "2025-04-24T08:42:17.757596Z"
    }
   },
   "outputs": [
    {
     "name": "stdout",
     "output_type": "stream",
     "text": [
      "Ваша награда: 305.8536376953125\n",
      "Отлично!\n"
     ]
    }
   ],
   "source": [
    "sessions = evaluate(env, actor, n_games=20)\n",
    "score = sessions.mean()\n",
    "print(f\"Ваша награда: {score}\")\n",
    "\n",
    "try:\n",
    "    assert score >= 300, \"Нужно больше учить?\"\n",
    "    print(\"Отлично!\")\n",
    "except:\n",
    "    print(\"не получилось\")"
   ]
  },
  {
   "cell_type": "code",
   "execution_count": null,
   "metadata": {},
   "outputs": [],
   "source": [
    "\n",
    "torch.save(actor.state_dict(), f'weights/TD3/{score}_{datetime.datetime.now()}.pth')"
   ]
  },
  {
   "cell_type": "markdown",
   "metadata": {},
   "source": [
    "## Запись"
   ]
  },
  {
   "cell_type": "code",
   "execution_count": null,
   "metadata": {
    "ExecuteTime": {
     "end_time": "2025-04-24T08:42:23.976927Z",
     "start_time": "2025-04-24T08:42:22.393814Z"
    }
   },
   "outputs": [],
   "source": [
    "with RecordVideo(\n",
    "    env = gym.make(\"BipedalWalker-v3\", render_mode=\"rgb_array\"),\n",
    "    video_folder=\"./videos_TD3\"\n",
    ") as env_monitor:\n",
    "    evaluate(env_monitor, actor, n_games=1, t_max=300)"
   ]
  },
  {
   "cell_type": "code",
   "execution_count": null,
   "metadata": {
    "ExecuteTime": {
     "end_time": "2025-04-24T08:42:23.980665Z",
     "start_time": "2025-04-24T08:42:23.978191Z"
    }
   },
   "outputs": [
    {
     "data": {
      "text/html": [
       "\n",
       "<video width=\"640\" height=\"480\" controls>\n",
       "  <source src=\"videos_TD3/rl-video-episode-0.mp4\" type=\"video/mp4\">\n",
       "</video>\n"
      ],
      "text/plain": [
       "<IPython.core.display.HTML object>"
      ]
     },
     "execution_count": 31,
     "metadata": {},
     "output_type": "execute_result"
    }
   ],
   "source": [
    "video_paths = sorted([s for s in Path('videos_TD3').iterdir() if s.suffix == '.mp4'])\n",
    "video_path = video_paths[-1]\n",
    "\n",
    "data_url = str(video_path)\n",
    "\n",
    "HTML(\"\"\"\n",
    "<video width=\"640\" height=\"480\" controls>\n",
    "  <source src=\"{}\" type=\"video/mp4\">\n",
    "</video>\n",
    "\"\"\".format(data_url))"
   ]
  },
  {
   "cell_type": "markdown",
   "metadata": {},
   "source": [
    "# SAC"
   ]
  },
  {
   "cell_type": "code",
   "execution_count": null,
   "metadata": {
    "ExecuteTime": {
     "end_time": "2025-04-24T08:59:31.821856Z",
     "start_time": "2025-04-24T08:59:31.818368Z"
    }
   },
   "outputs": [],
   "source": [
    "env = gym.make(\"BipedalWalker-v3\", render_mode=\"rgb_array\")\n",
    "env = Summaries(env, \"SAC\")"
   ]
  },
  {
   "cell_type": "markdown",
   "metadata": {},
   "source": [
    "Нужно смоделировать гауссовскую политику. Это означает, что распределение политики &mdash; это многомерное нормальное распределение с диагональной ковариационной матрицей. Должны предсказываться среднее и ковариация, при этом важно гарантировать, что ковариация остаётся неотрицательной. Пусть $f_{\\theta}(s)$ &mdash; выход головы ковариации, преобразуем выход в диапазон $[-1, 1]$ с помощью `tanh`, затем спроецируем результат в интервал $[m, M]$, где $m = -20$, $M = 2$, и применим экспоненту. Это обеспечит адекватный диапазон ковариации:\n",
    "$$\\sigma(s) = \\exp^{m + 0.5(M - m)(\\tanh(f_{\\theta}(s)) + 1)}.$$\n",
    "\n",
    "Гауссовское распределение не ограничено, но нужно, чтобы действия лежали в диапазоне $[-1, 1]$. Для этого:\n",
    "1. Моделируем неограниченное распределение:  \n",
    "   $\\mathcal{N}(\\mu_{\\theta}(s), \\sigma_{\\theta}(s)^2I)$\n",
    "2. Затем каждую выборку $u$ из этого распределения преобразуем с помощью $\\tanh$:\n",
    "$$u \\sim \\mathcal{N}(\\mu, \\sigma^2I)$$\n",
    "$$a = \\tanh(u)$$\n",
    "\n",
    "**Важно:** После применения $\\tanh$ необходимо использовать формулу замены переменных при вычислении логарифма плотности вероятности:\n",
    "$$\\log p(a \\mid \\mu, \\sigma) = \\log p(u \\mid \\mu, \\sigma) - \\sum_{i = 1}^D \\log \\left(1 - \\tanh^2(u_i)\\right),$$\n",
    "где $D$ &mdash; размерность действия (`action_dim`). На практике желательно добавить небольшое значение (например, $1e{-6}$) внутрь логарифма для числовой устойчивости."
   ]
  },
  {
   "cell_type": "markdown",
   "metadata": {},
   "source": [
    "<span style=\"color: green\"> __(2 балла)__ </span>"
   ]
  },
  {
   "cell_type": "code",
   "execution_count": null,
   "metadata": {
    "ExecuteTime": {
     "end_time": "2025-04-24T08:59:36.275645Z",
     "start_time": "2025-04-24T08:59:36.272221Z"
    },
    "tags": []
   },
   "outputs": [],
   "source": [
    "class SAC_Actor(nn.Module):\n",
    "    def __init__(self, state_dim, action_dim, device, hidden_dim=256, m=-20, M=2):\n",
    "        super().__init__()\n",
    "        self.device = device\n",
    "\n",
    "        self.m = m\n",
    "        self.M = M\n",
    "\n",
    "        ### Ваш код\n",
    "        self.base = nn.Sequential(\n",
    "            nn.Linear(state_dim, hidden_dim),\n",
    "            nn.ReLU(),\n",
    "            nn.Linear(hidden_dim, hidden_dim),\n",
    "            nn.ReLU()\n",
    "        )\n",
    "        self.mean_head = nn.Linear(hidden_dim, action_dim)\n",
    "        self.std_head = nn.Linear(hidden_dim, action_dim)\n",
    "        ###\n",
    "\n",
    "    def forward(self, state):\n",
    "\n",
    "        ### Ваш код\n",
    "        x = self.base(state)\n",
    "        mean = self.mean_head(x)\n",
    "\n",
    "        raw_std = self.std_head(x)\n",
    "        scale = torch.tanh(raw_std)\n",
    "        scale = self.m + 0.5 * (self.M - self.m) * (scale + 1)\n",
    "        cov = torch.exp(scale)\n",
    "        ###\n",
    "\n",
    "        return mean, cov\n",
    "\n",
    "    def sample(self, states):\n",
    "        '''\n",
    "        Сэмплирует действия.\n",
    "\n",
    "        Параметры\n",
    "        ----------\n",
    "            states: torch.tensor [batch_size x features]\n",
    "\n",
    "        Возвращает\n",
    "        -------\n",
    "            actions: torch.tensor [batch_size x actions_dim]\n",
    "            log_prob: torch.tensor [batch_size]\n",
    "        '''\n",
    "        ### Ваш код\n",
    "        mean, std = self.forward(states)\n",
    "        dist = Normal(mean, std)\n",
    "        u = dist.rsample()\n",
    "        actions = torch.tanh(u)\n",
    "        log_prob = dist.log_prob(u)\n",
    "        log_prob -= ((1 - actions.pow(2) + 1e-6).log())\n",
    "        log_prob = log_prob.sum(dim=-1)\n",
    "        ###\n",
    "\n",
    "        return actions, log_prob\n",
    "\n",
    "    def get_action(self, states):\n",
    "        '''\n",
    "        Используется для взаимодействия с окружающей средой и сбора данных.\n",
    "\n",
    "        Параметры\n",
    "        ----------\n",
    "        states: np.array [batch_size x features]\n",
    "\n",
    "        Возвращает\n",
    "        -------\n",
    "        actions: np.array [batch_size x actions_dim]\n",
    "        '''\n",
    "        # Градиенты тут не нужны, так как используется только для взаимодействия\n",
    "        with torch.no_grad():\n",
    "\n",
    "            ### Ваш код\n",
    "            states = torch.tensor(states, device=self.device, dtype=torch.float32)\n",
    "            actions, _ = self.sample(states)\n",
    "            actions = actions.cpu().numpy()\n",
    "            ###\n",
    "\n",
    "            assert actions.max() <= 1. and actions.min() >= -1,\\\n",
    "                \"Действия должны находиться в диапазоне [-1, 1]\"\n",
    "        return actions"
   ]
  },
  {
   "cell_type": "markdown",
   "metadata": {},
   "source": [
    "Протестим."
   ]
  },
  {
   "cell_type": "code",
   "execution_count": null,
   "metadata": {
    "ExecuteTime": {
     "end_time": "2025-04-24T08:59:39.079174Z",
     "start_time": "2025-04-24T08:59:38.889928Z"
    },
    "tags": []
   },
   "outputs": [
    {
     "name": "stdout",
     "output_type": "stream",
     "text": [
      "Отлично!\n"
     ]
    }
   ],
   "source": [
    "exp_replay = ReplayBuffer(2000)\n",
    "actor = SAC_Actor(state_dim, action_dim, DEVICE).to(DEVICE)\n",
    "\n",
    "state, _ = env.reset()\n",
    "play_and_record(state, actor, env, exp_replay, n_steps=1000)\n",
    "\n",
    "assert len(exp_replay) == 1000, \\\n",
    "    \"play_and_record должен был добавить ровно 1000 шагов, но вместо этого добавил %i\" % len(exp_replay)\n",
    "\n",
    "is_dones = list(zip(*exp_replay._storage))[-1]\n",
    "\n",
    "for _ in range(100):\n",
    "    obs_batch, act_batch, reward_batch, next_obs_batch, is_done_batch = exp_replay.sample_random(10)\n",
    "\n",
    "    assert obs_batch.shape == next_obs_batch.shape == (10,) + (state_dim,), \\\n",
    "        \"Батчи наблюдений и следующих состояний должны иметь форму (10, %d)\" % state_dim\n",
    "\n",
    "    assert act_batch.shape == (10, action_dim), \\\n",
    "        \"Батч действий должен иметь форму (10, 8), но вместо этого: %s\" % str(act_batch.shape)\n",
    "\n",
    "    assert reward_batch.shape == (10,), \\\n",
    "        \"Батч наград должен иметь форму (10,), но вместо этого: %s\" % str(reward_batch.shape)\n",
    "\n",
    "    assert is_done_batch.shape == (10,), \\\n",
    "        \"Батч is_done должен иметь форму (10,), но вместо этого: %s\" % str(is_done_batch.shape)\n",
    "\n",
    "    assert [int(i) in (0, 1) for i in is_dones], \\\n",
    "        \"is_done должен быть строго True или False (или 1/0)\"\n",
    "\n",
    "print(\"Отлично!\")"
   ]
  },
  {
   "cell_type": "markdown",
   "metadata": {},
   "source": [
    "## Инициализация"
   ]
  },
  {
   "cell_type": "code",
   "execution_count": null,
   "metadata": {
    "ExecuteTime": {
     "end_time": "2025-04-24T08:59:41.091591Z",
     "start_time": "2025-04-24T08:59:41.089590Z"
    }
   },
   "outputs": [],
   "source": [
    "max_buffer_size = 10**6\n",
    "exp_replay = ReplayBuffer(max_buffer_size)"
   ]
  },
  {
   "cell_type": "code",
   "execution_count": null,
   "metadata": {
    "ExecuteTime": {
     "end_time": "2025-04-24T08:59:41.582761Z",
     "start_time": "2025-04-24T08:59:41.579812Z"
    },
    "tags": []
   },
   "outputs": [],
   "source": [
    "actor = SAC_Actor(state_dim, action_dim, DEVICE).to(DEVICE)\n",
    "critic1 = Critic(state_dim, action_dim).to(DEVICE)\n",
    "critic2 = Critic(state_dim, action_dim).to(DEVICE)"
   ]
  },
  {
   "cell_type": "code",
   "execution_count": null,
   "metadata": {
    "ExecuteTime": {
     "end_time": "2025-04-24T08:59:42.130567Z",
     "start_time": "2025-04-24T08:59:42.127553Z"
    }
   },
   "outputs": [
    {
     "data": {
      "text/plain": [
       "<All keys matched successfully>"
      ]
     },
     "execution_count": 66,
     "metadata": {},
     "output_type": "execute_result"
    }
   ],
   "source": [
    "target_critic1 = Critic(state_dim, action_dim).to(DEVICE)\n",
    "target_critic2 = Critic(state_dim, action_dim).to(DEVICE)\n",
    "\n",
    "target_critic1.load_state_dict(critic1.state_dict())\n",
    "target_critic2.load_state_dict(critic2.state_dict())"
   ]
  },
  {
   "cell_type": "code",
   "execution_count": null,
   "metadata": {
    "ExecuteTime": {
     "end_time": "2025-04-24T08:59:50.695410Z",
     "start_time": "2025-04-24T08:59:50.686991Z"
    }
   },
   "outputs": [],
   "source": [
    "opt_actor = torch.optim.Adam(actor.parameters(), lr=3e-4)\n",
    "opt_critic1 = torch.optim.Adam(critic1.parameters(), lr=3e-4)\n",
    "opt_critic2 = torch.optim.Adam(critic2.parameters(), lr=3e-4)"
   ]
  },
  {
   "cell_type": "markdown",
   "metadata": {},
   "source": [
    "## Вычисление целевого значения для критика"
   ]
  },
  {
   "cell_type": "markdown",
   "metadata": {},
   "source": [
    "Отличия от **TD3**:\n",
    "\n",
    "1. Используем двух критиков (берём минимум из их значений):\n",
    "$$V(s') = \\min_{i = 1, 2} \\left\\{Q^{-}_i(s', a')\\right\\},$$\n",
    "где $a'$ &mdash; это сэмпл из целевой политики $\\pi(a' \\mid s')$;\n",
    "2. Добавляется энтропийный бонус:\n",
    "$$V(s') = \\min_{i = 1, 2} \\left\\{Q^{-}_i(s', a')\\right\\} - \\alpha \\log \\pi(a' \\mid s').$$"
   ]
  },
  {
   "cell_type": "markdown",
   "metadata": {
    "ExecuteTime": {
     "end_time": "2025-04-24T01:58:06.145091Z",
     "start_time": "2025-04-24T01:58:06.145086Z"
    }
   },
   "source": [
    "<span style=\"color: green\"> __(0.5 балла)__ </span>"
   ]
  },
  {
   "cell_type": "code",
   "execution_count": null,
   "metadata": {
    "ExecuteTime": {
     "end_time": "2025-04-24T08:59:58.722072Z",
     "start_time": "2025-04-24T08:59:58.712927Z"
    }
   },
   "outputs": [],
   "source": [
    "def compute_critic_target(rewards, next_states, is_done, actor, target_critic1, target_critic2,\n",
    "                          gamma=0.99, alpha=0.4):\n",
    "    '''\n",
    "    Подсчет loss для критика.\n",
    "\n",
    "    Параметры\n",
    "        ----------\n",
    "        rewards: torch.tensor [batch_size]\n",
    "        next_states: torch.tensor [batch_size x features]\n",
    "        is_done: torch.tensor [batch_size]\n",
    "        gamma: float\n",
    "        alpha: float\n",
    "\n",
    "    Возвращает\n",
    "        -------\n",
    "        critic_target: torch.tensor [batch_size]\n",
    "    '''\n",
    "    with torch.no_grad():\n",
    "\n",
    "        ### Ваш код\n",
    "        is_not_done = 1 - is_done\n",
    "        next_actions, log_prob = actor.sample(next_states)\n",
    "        q1 = target_critic1.get_qvalues(next_states, next_actions)\n",
    "        q2 = target_critic2.get_qvalues(next_states, next_actions)\n",
    "        min_q = torch.min(q1, q2)\n",
    "        V = min_q - alpha * log_prob\n",
    "        critic_target = rewards + gamma * V * is_not_done\n",
    "        ###\n",
    "\n",
    "    return critic_target"
   ]
  },
  {
   "cell_type": "markdown",
   "metadata": {},
   "source": [
    "Отличия от **TD3**:\n",
    "\n",
    "Добавляется регуляризатор энтропии, чтобы стимулировать стохастичность политики:\n",
    "$$\\mathbb{E}_{a \\sim \\pi(a \\mid s)} \\left[Q(s, a) - \\alpha \\log \\pi(a \\mid s)\\right] \\to \\max_{\\pi}$$"
   ]
  },
  {
   "cell_type": "markdown",
   "metadata": {},
   "source": [
    "<span style=\"color: green\"> __(0.5 балла)__ </span>"
   ]
  },
  {
   "cell_type": "code",
   "execution_count": null,
   "metadata": {
    "ExecuteTime": {
     "end_time": "2025-04-24T09:00:01.896966Z",
     "start_time": "2025-04-24T09:00:01.892117Z"
    }
   },
   "outputs": [],
   "source": [
    "def compute_actor_loss(states, actor, critic1, alpha=0.4):\n",
    "    '''\n",
    "    Подсчет loss для актора.\n",
    "\n",
    "\n",
    "    Параметры\n",
    "        ----------\n",
    "        states: torch.tensor [batch_size x features]\n",
    "        alpha: float\n",
    "\n",
    "    Возвращает\n",
    "        -------\n",
    "        actor_loss: torch.tensor [batch_size]\n",
    "    '''\n",
    "    ### Ваш код\n",
    "    actions, log_prob = actor.sample(states)\n",
    "    q = critic1.get_qvalues(states, actions)\n",
    "    actor_loss = (-q + alpha * log_prob).mean()\n",
    "    ###\n",
    "\n",
    "    return actor_loss"
   ]
  },
  {
   "cell_type": "markdown",
   "metadata": {},
   "source": [
    "# Пайплайн"
   ]
  },
  {
   "cell_type": "markdown",
   "metadata": {},
   "source": [
    "Цель &mdash; достичь в среднем хотя бы **250 награды**."
   ]
  },
  {
   "cell_type": "code",
   "execution_count": null,
   "metadata": {
    "ExecuteTime": {
     "end_time": "2025-04-24T09:00:10.972995Z",
     "start_time": "2025-04-24T09:00:10.965573Z"
    }
   },
   "outputs": [
    {
     "data": {
      "text/plain": [
       "<torch._C.Generator at 0x124535310>"
      ]
     },
     "execution_count": 70,
     "metadata": {},
     "output_type": "execute_result"
    }
   ],
   "source": [
    "seed = 42 # Иногда может сильно не повезти\n",
    "np.random.seed(seed)\n",
    "torch.manual_seed(seed)"
   ]
  },
  {
   "cell_type": "code",
   "execution_count": null,
   "metadata": {
    "ExecuteTime": {
     "end_time": "2025-04-24T10:45:08.879108Z",
     "start_time": "2025-04-24T10:45:05.325186Z"
    }
   },
   "outputs": [
    {
     "data": {
      "text/html": [
       "\n",
       "      <iframe id=\"tensorboard-frame-67f1f6071ec8e2b5\" width=\"100%\" height=\"800\" frameborder=\"0\">\n",
       "      </iframe>\n",
       "      <script>\n",
       "        (function() {\n",
       "          const frame = document.getElementById(\"tensorboard-frame-67f1f6071ec8e2b5\");\n",
       "          const url = new URL(\"/\", window.location);\n",
       "          const port = 6007;\n",
       "          if (port) {\n",
       "            url.port = port;\n",
       "          }\n",
       "          frame.src = url;\n",
       "        })();\n",
       "      </script>\n",
       "    "
      ],
      "text/plain": [
       "<IPython.core.display.HTML object>"
      ]
     },
     "metadata": {},
     "output_type": "display_data"
    }
   ],
   "source": [
    "%reload_ext tensorboard\n",
    "%tensorboard --logdir logs --port 6007"
   ]
  },
  {
   "cell_type": "code",
   "execution_count": null,
   "metadata": {
    "ExecuteTime": {
     "end_time": "2025-04-24T10:28:37.626011Z",
     "start_time": "2025-04-24T10:28:37.621755Z"
    }
   },
   "outputs": [],
   "source": [
    "def run_SAC(env, exp_replay, actor, critic1, target_critic1, critic2, target_critic2,\n",
    "            max_grad_norm=10, n_iter_max=1000000, timesteps_per_epoch=1, start_timesteps = 5000,\n",
    "            batch_size=128, policy_update_freq=2, gamma=0.99, tau=0.005, alpha=0.1):\n",
    "\n",
    "    interaction_state, _ = env.reset()\n",
    "    random_actor = RandomActor()\n",
    "    ### Мой код\n",
    "    mse = nn.MSELoss()\n",
    "    ###\n",
    "\n",
    "    for n_iterations in trange(0, n_iter_max, timesteps_per_epoch):\n",
    "\n",
    "        if len(exp_replay) < start_timesteps:\n",
    "            _, interaction_state = play_and_record(interaction_state, random_actor, env,\n",
    "                                                   exp_replay, timesteps_per_epoch)\n",
    "            continue\n",
    "\n",
    "        _, interaction_state = play_and_record(interaction_state, actor, env, exp_replay, timesteps_per_epoch)\n",
    "\n",
    "        states, actions, rewards, next_states, is_done = exp_replay.sample_random(batch_size)\n",
    "\n",
    "        states = torch.tensor(states, device=DEVICE, dtype=torch.float)\n",
    "        actions = torch.tensor(actions, device=DEVICE, dtype=torch.float)\n",
    "        rewards = torch.tensor(rewards, device=DEVICE, dtype=torch.float)\n",
    "        next_states = torch.tensor(next_states, device=DEVICE, dtype=torch.float)\n",
    "        is_done = torch.tensor(is_done.astype('float32'), device=DEVICE, dtype=torch.float)\n",
    "\n",
    "        ### Ваш код\n",
    "        q_computed = compute_critic_target(rewards, next_states, is_done, actor, target_critic1, target_critic2, gamma, alpha)\n",
    "\n",
    "        q_crititc1 = critic1.get_qvalues(states, actions)\n",
    "        critic1_loss = mse(q_crititc1, q_computed)\n",
    "        ###\n",
    "        optimize(\"critic1\", critic1, opt_critic1, critic1_loss, n_iterations, max_grad_norm)\n",
    "\n",
    "        ### Ваш код\n",
    "        q_crititc2 = critic2.get_qvalues(states, actions)\n",
    "        critic2_loss = mse(q_crititc2, q_computed)\n",
    "        ###\n",
    "        optimize(\"critic2\", critic2, opt_critic2, critic2_loss, n_iterations, max_grad_norm)\n",
    "\n",
    "        if n_iterations % policy_update_freq == 0:\n",
    "            ### Ваш код\n",
    "            actor_loss = compute_actor_loss(states, actor, critic1, alpha)\n",
    "            ###\n",
    "            optimize(\"actor\", actor, opt_actor, actor_loss, n_iterations, max_grad_norm)\n",
    "\n",
    "            update_target_networks(critic1, target_critic1, tau)\n",
    "            update_target_networks(critic2, target_critic2, tau)"
   ]
  },
  {
   "cell_type": "code",
   "execution_count": null,
   "metadata": {
    "ExecuteTime": {
     "end_time": "2025-04-24T10:44:15.948407Z",
     "start_time": "2025-04-24T10:28:38.990752Z"
    },
    "scrolled": true
   },
   "outputs": [
    {
     "data": {
      "application/vnd.jupyter.widget-view+json": {
       "model_id": "28f940b3cf094c00927c63fdcc25343a",
       "version_major": 2,
       "version_minor": 0
      },
      "text/plain": [
       "  0%|          | 0/2000000 [00:00<?, ?it/s]"
      ]
     },
     "metadata": {},
     "output_type": "display_data"
    },
    {
     "ename": "KeyboardInterrupt",
     "evalue": "",
     "output_type": "error",
     "traceback": [
      "\u001b[0;31m---------------------------------------------------------------------------\u001b[0m",
      "\u001b[0;31mKeyboardInterrupt\u001b[0m                         Traceback (most recent call last)",
      "Cell \u001b[0;32mIn[80], line 1\u001b[0m\n\u001b[0;32m----> 1\u001b[0m \u001b[43mrun_SAC\u001b[49m\u001b[43m(\u001b[49m\u001b[43menv\u001b[49m\u001b[43m,\u001b[49m\u001b[43m \u001b[49m\u001b[43mexp_replay\u001b[49m\u001b[43m,\u001b[49m\u001b[43m \u001b[49m\u001b[43mactor\u001b[49m\u001b[43m,\u001b[49m\u001b[43m \u001b[49m\u001b[43mcritic1\u001b[49m\u001b[43m,\u001b[49m\u001b[43m \u001b[49m\u001b[43mtarget_critic1\u001b[49m\u001b[43m,\u001b[49m\u001b[43m \u001b[49m\u001b[43mcritic2\u001b[49m\u001b[43m,\u001b[49m\u001b[43m \u001b[49m\u001b[43mtarget_critic2\u001b[49m\u001b[43m,\u001b[49m\n\u001b[1;32m      2\u001b[0m \u001b[43m        \u001b[49m\u001b[43mmax_grad_norm\u001b[49m\u001b[38;5;241;43m=\u001b[39;49m\u001b[38;5;241;43m10\u001b[39;49m\u001b[43m,\u001b[49m\u001b[43m \u001b[49m\u001b[43mn_iter_max\u001b[49m\u001b[38;5;241;43m=\u001b[39;49m\u001b[38;5;241;43m2_000_000\u001b[39;49m\u001b[43m,\u001b[49m\u001b[43m \u001b[49m\u001b[43mtimesteps_per_epoch\u001b[49m\u001b[38;5;241;43m=\u001b[39;49m\u001b[38;5;241;43m1\u001b[39;49m\u001b[43m,\u001b[49m\u001b[43m \u001b[49m\u001b[43mstart_timesteps\u001b[49m\u001b[38;5;241;43m=\u001b[39;49m\u001b[38;5;241;43m25_000\u001b[39;49m\u001b[43m,\u001b[49m\n\u001b[1;32m      3\u001b[0m \u001b[43m        \u001b[49m\u001b[43mbatch_size\u001b[49m\u001b[38;5;241;43m=\u001b[39;49m\u001b[38;5;241;43m256\u001b[39;49m\u001b[43m,\u001b[49m\u001b[43m \u001b[49m\u001b[43mpolicy_update_freq\u001b[49m\u001b[38;5;241;43m=\u001b[39;49m\u001b[38;5;241;43m1\u001b[39;49m\u001b[43m,\u001b[49m\u001b[43m \u001b[49m\u001b[43mgamma\u001b[49m\u001b[38;5;241;43m=\u001b[39;49m\u001b[38;5;241;43m0.99\u001b[39;49m\u001b[43m,\u001b[49m\u001b[43m \u001b[49m\u001b[43mtau\u001b[49m\u001b[38;5;241;43m=\u001b[39;49m\u001b[38;5;241;43m0.005\u001b[39;49m\u001b[43m,\u001b[49m\u001b[43m \u001b[49m\u001b[43malpha\u001b[49m\u001b[38;5;241;43m=\u001b[39;49m\u001b[38;5;241;43m0.4\u001b[39;49m\u001b[43m)\u001b[49m\n",
      "Cell \u001b[0;32mIn[79], line 20\u001b[0m, in \u001b[0;36mrun_SAC\u001b[0;34m(env, exp_replay, actor, critic1, target_critic1, critic2, target_critic2, max_grad_norm, n_iter_max, timesteps_per_epoch, start_timesteps, batch_size, policy_update_freq, gamma, tau, alpha)\u001b[0m\n\u001b[1;32m     16\u001b[0m     \u001b[38;5;28;01mcontinue\u001b[39;00m\n\u001b[1;32m     18\u001b[0m _, interaction_state \u001b[38;5;241m=\u001b[39m play_and_record(interaction_state, actor, env, exp_replay, timesteps_per_epoch)\n\u001b[0;32m---> 20\u001b[0m states, actions, rewards, next_states, is_done \u001b[38;5;241m=\u001b[39m \u001b[43mexp_replay\u001b[49m\u001b[38;5;241;43m.\u001b[39;49m\u001b[43msample_random\u001b[49m\u001b[43m(\u001b[49m\u001b[43mbatch_size\u001b[49m\u001b[43m)\u001b[49m\n\u001b[1;32m     22\u001b[0m states \u001b[38;5;241m=\u001b[39m torch\u001b[38;5;241m.\u001b[39mtensor(states, device\u001b[38;5;241m=\u001b[39mDEVICE, dtype\u001b[38;5;241m=\u001b[39mtorch\u001b[38;5;241m.\u001b[39mfloat)\n\u001b[1;32m     23\u001b[0m actions \u001b[38;5;241m=\u001b[39m torch\u001b[38;5;241m.\u001b[39mtensor(actions, device\u001b[38;5;241m=\u001b[39mDEVICE, dtype\u001b[38;5;241m=\u001b[39mtorch\u001b[38;5;241m.\u001b[39mfloat)\n",
      "Cell \u001b[0;32mIn[10], line 45\u001b[0m, in \u001b[0;36mReplayBuffer.sample_random\u001b[0;34m(self, batch_size)\u001b[0m\n\u001b[1;32m     43\u001b[0m states, actions, rewards, next_states, dones \u001b[38;5;241m=\u001b[39m [], [], [], [], []\n\u001b[1;32m     44\u001b[0m \u001b[38;5;28;01mfor\u001b[39;00m idx \u001b[38;5;129;01min\u001b[39;00m indices:\n\u001b[0;32m---> 45\u001b[0m     sample \u001b[38;5;241m=\u001b[39m \u001b[38;5;28;43mself\u001b[39;49m\u001b[38;5;241;43m.\u001b[39;49m\u001b[43m_storage\u001b[49m\u001b[43m[\u001b[49m\u001b[43midx\u001b[49m\u001b[43m]\u001b[49m\n\u001b[1;32m     46\u001b[0m     states\u001b[38;5;241m.\u001b[39mappend(sample[\u001b[38;5;241m0\u001b[39m])\n\u001b[1;32m     47\u001b[0m     actions\u001b[38;5;241m.\u001b[39mappend(sample[\u001b[38;5;241m1\u001b[39m])\n",
      "\u001b[0;31mKeyboardInterrupt\u001b[0m: "
     ]
    }
   ],
   "source": [
    "run_SAC(env, exp_replay, actor, critic1, target_critic1, critic2, target_critic2,\n",
    "        max_grad_norm=10, n_iter_max=2_000_000, timesteps_per_epoch=1, start_timesteps=25_000,\n",
    "        batch_size=256, policy_update_freq=1, gamma=0.99, tau=0.005, alpha=0.4)"
   ]
  },
  {
   "cell_type": "markdown",
   "metadata": {},
   "source": [
    "## Оценка"
   ]
  },
  {
   "cell_type": "markdown",
   "metadata": {
    "ExecuteTime": {
     "end_time": "2025-04-24T01:58:06.147830Z",
     "start_time": "2025-04-24T01:58:06.147825Z"
    }
   },
   "source": [
    "<span style=\"color: green\"> __(1.5 балла)__ </span>"
   ]
  },
  {
   "cell_type": "code",
   "execution_count": null,
   "metadata": {
    "ExecuteTime": {
     "end_time": "2025-04-24T10:46:58.036798Z",
     "start_time": "2025-04-24T10:46:52.730916Z"
    }
   },
   "outputs": [
    {
     "name": "stdout",
     "output_type": "stream",
     "text": [
      "Ваша награда: -78.97158813476562\n",
      "не получилось\n"
     ]
    }
   ],
   "source": [
    "sessions = evaluate(env, actor, n_games=20)\n",
    "score = sessions.mean()\n",
    "print(f\"Ваша награда: {score}\")\n",
    "\n",
    "try:\n",
    "    assert score >= 250, \"Нужно больше учить?\"\n",
    "    print(\"Отлично!\")\n",
    "except:\n",
    "    print(\"не получилось\")"
   ]
  },
  {
   "cell_type": "code",
   "execution_count": null,
   "metadata": {},
   "outputs": [],
   "source": [
    "torch.save(actor.state_dict(), f'weights/SAC/{score}_{datetime.datetime.now()}.pth')"
   ]
  },
  {
   "cell_type": "markdown",
   "metadata": {},
   "source": [
    "## Запись"
   ]
  },
  {
   "cell_type": "code",
   "execution_count": null,
   "metadata": {
    "ExecuteTime": {
     "end_time": "2025-04-24T10:27:45.332491Z",
     "start_time": "2025-04-24T10:27:43.771771Z"
    }
   },
   "outputs": [],
   "source": [
    "with RecordVideo(\n",
    "    env = gym.make(\"BipedalWalker-v3\", render_mode=\"rgb_array\"),\n",
    "    video_folder=\"./videos_SAC\"\n",
    ") as env_monitor:\n",
    "    evaluate(env_monitor, actor, n_games=1, t_max=300)"
   ]
  },
  {
   "cell_type": "code",
   "execution_count": null,
   "metadata": {
    "ExecuteTime": {
     "end_time": "2025-04-24T10:27:45.336278Z",
     "start_time": "2025-04-24T10:27:45.333699Z"
    },
    "tags": []
   },
   "outputs": [
    {
     "data": {
      "text/html": [
       "\n",
       "<video width=\"640\" height=\"480\" controls>\n",
       "  <source src=\"videos_SAC/rl-video-episode-0.mp4\" type=\"video/mp4\">\n",
       "</video>\n"
      ],
      "text/plain": [
       "<IPython.core.display.HTML object>"
      ]
     },
     "execution_count": 83,
     "metadata": {},
     "output_type": "execute_result"
    }
   ],
   "source": [
    "video_paths = sorted([s for s in Path('videos_SAC').iterdir() if s.suffix == '.mp4'])\n",
    "video_path = video_paths[-1]\n",
    "\n",
    "data_url = str(video_path)\n",
    "\n",
    "HTML(\"\"\"\n",
    "<video width=\"640\" height=\"480\" controls>\n",
    "  <source src=\"{}\" type=\"video/mp4\">\n",
    "</video>\n",
    "\"\"\".format(data_url))"
   ]
  },
  {
   "cell_type": "markdown",
   "metadata": {},
   "source": [
    "# Бонусное задание"
   ]
  },
  {
   "cell_type": "markdown",
   "metadata": {},
   "source": [
    "<span style=\"color: green\"> __(5 баллов)__ </span> Выбить хотя бы **300 награды** в режиме хардкора."
   ]
  },
  {
   "cell_type": "code",
   "execution_count": null,
   "metadata": {},
   "outputs": [],
   "source": [
    "env = gym.make(\"BipedalWalker-v3\", hardcore=True, render_mode=\"rgb_array\")\n",
    "env = Summaries(env, \"Hard\")"
   ]
  },
  {
   "cell_type": "code",
   "execution_count": null,
   "metadata": {},
   "outputs": [],
   "source": [
    "### Ваше решение"
   ]
  }
 ],
 "metadata": {
  "kernelspec": {
   "display_name": ".venv",
   "language": "python",
   "name": "python3"
  },
  "language_info": {
   "codemirror_mode": {
    "name": "ipython",
    "version": 3
   },
   "file_extension": ".py",
   "mimetype": "text/x-python",
   "name": "python",
   "nbconvert_exporter": "python",
   "pygments_lexer": "ipython3",
   "version": "3.9.6"
  }
 },
 "nbformat": 4,
 "nbformat_minor": 4
}
